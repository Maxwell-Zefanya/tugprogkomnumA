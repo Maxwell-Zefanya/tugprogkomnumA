{
 "cells": [
  {
   "cell_type": "markdown",
   "metadata": {
    "id": "jDjbmLlJtA1w"
   },
   "source": [
    "Import Library"
   ]
  },
  {
   "cell_type": "code",
   "execution_count": 18,
   "metadata": {
    "id": "nOCBsjAlf1uB",
    "scrolled": true
   },
   "outputs": [],
   "source": [
    "import numpy as np\n",
    "import pandas as pd\n",
    "import matplotlib.pyplot as plt\n",
    "from sklearn.linear_model import LinearRegression"
   ]
  },
  {
   "cell_type": "markdown",
   "metadata": {
    "id": "dgILROSZv4JO"
   },
   "source": [
    "Pisahkan x dan y kemudian masukkan masing-masing ke array yang terpisah"
   ]
  },
  {
   "cell_type": "code",
   "execution_count": 14,
   "metadata": {
    "id": "ozmI-jgPv-4Z"
   },
   "outputs": [
    {
     "data": {
      "text/html": [
       "<div>\n",
       "<style scoped>\n",
       "    .dataframe tbody tr th:only-of-type {\n",
       "        vertical-align: middle;\n",
       "    }\n",
       "\n",
       "    .dataframe tbody tr th {\n",
       "        vertical-align: top;\n",
       "    }\n",
       "\n",
       "    .dataframe thead th {\n",
       "        text-align: right;\n",
       "    }\n",
       "</style>\n",
       "<table border=\"1\" class=\"dataframe\">\n",
       "  <thead>\n",
       "    <tr style=\"text-align: right;\">\n",
       "      <th></th>\n",
       "      <th>x</th>\n",
       "      <th>y</th>\n",
       "    </tr>\n",
       "  </thead>\n",
       "  <tbody>\n",
       "    <tr>\n",
       "      <th>0</th>\n",
       "      <td>1</td>\n",
       "      <td>2</td>\n",
       "    </tr>\n",
       "    <tr>\n",
       "      <th>1</th>\n",
       "      <td>1</td>\n",
       "      <td>3</td>\n",
       "    </tr>\n",
       "    <tr>\n",
       "      <th>2</th>\n",
       "      <td>1</td>\n",
       "      <td>1</td>\n",
       "    </tr>\n",
       "    <tr>\n",
       "      <th>3</th>\n",
       "      <td>2</td>\n",
       "      <td>51</td>\n",
       "    </tr>\n",
       "    <tr>\n",
       "      <th>4</th>\n",
       "      <td>3</td>\n",
       "      <td>12</td>\n",
       "    </tr>\n",
       "    <tr>\n",
       "      <th>5</th>\n",
       "      <td>4</td>\n",
       "      <td>23</td>\n",
       "    </tr>\n",
       "    <tr>\n",
       "      <th>6</th>\n",
       "      <td>565</td>\n",
       "      <td>562</td>\n",
       "    </tr>\n",
       "    <tr>\n",
       "      <th>7</th>\n",
       "      <td>12</td>\n",
       "      <td>25</td>\n",
       "    </tr>\n",
       "    <tr>\n",
       "      <th>8</th>\n",
       "      <td>78</td>\n",
       "      <td>15</td>\n",
       "    </tr>\n",
       "    <tr>\n",
       "      <th>9</th>\n",
       "      <td>14</td>\n",
       "      <td>62</td>\n",
       "    </tr>\n",
       "    <tr>\n",
       "      <th>10</th>\n",
       "      <td>51</td>\n",
       "      <td>73</td>\n",
       "    </tr>\n",
       "    <tr>\n",
       "      <th>11</th>\n",
       "      <td>25</td>\n",
       "      <td>84</td>\n",
       "    </tr>\n",
       "    <tr>\n",
       "      <th>12</th>\n",
       "      <td>62</td>\n",
       "      <td>3</td>\n",
       "    </tr>\n",
       "    <tr>\n",
       "      <th>13</th>\n",
       "      <td>475</td>\n",
       "      <td>625</td>\n",
       "    </tr>\n",
       "    <tr>\n",
       "      <th>14</th>\n",
       "      <td>2</td>\n",
       "      <td>14</td>\n",
       "    </tr>\n",
       "    <tr>\n",
       "      <th>15</th>\n",
       "      <td>5464</td>\n",
       "      <td>25</td>\n",
       "    </tr>\n",
       "    <tr>\n",
       "      <th>16</th>\n",
       "      <td>14</td>\n",
       "      <td>1</td>\n",
       "    </tr>\n",
       "  </tbody>\n",
       "</table>\n",
       "</div>"
      ],
      "text/plain": [
       "       x    y\n",
       "0      1    2\n",
       "1      1    3\n",
       "2      1    1\n",
       "3      2   51\n",
       "4      3   12\n",
       "5      4   23\n",
       "6    565  562\n",
       "7     12   25\n",
       "8     78   15\n",
       "9     14   62\n",
       "10    51   73\n",
       "11    25   84\n",
       "12    62    3\n",
       "13   475  625\n",
       "14     2   14\n",
       "15  5464   25\n",
       "16    14    1"
      ]
     },
     "execution_count": 14,
     "metadata": {},
     "output_type": "execute_result"
    }
   ],
   "source": [
    "data = pd.read_csv('data_single.csv', usecols=[0, 1])\n",
    "# x = pd.read_csv('data_single.csv', usecols=[0])\n",
    "# y = pd.read_csv('data_single.csv', usecols=[1])\n",
    "data\n",
    "# ambil kolom X dan Y, pastikan X berbentuk 2D\n",
    "x = data.iloc[:, 0].values.reshape(-1, 1)\n",
    "y = data.iloc[:, 1].values\n",
    "\n",
    "# x = np.array(x).reshape(-1,1)\n",
    "# y = np.array(y)\n",
    "data"
   ]
  },
  {
   "cell_type": "code",
   "execution_count": 15,
   "metadata": {},
   "outputs": [
    {
     "data": {
      "text/plain": [
       "array([[   1],\n",
       "       [   1],\n",
       "       [   1],\n",
       "       [   2],\n",
       "       [   3],\n",
       "       [   4],\n",
       "       [ 565],\n",
       "       [  12],\n",
       "       [  78],\n",
       "       [  14],\n",
       "       [  51],\n",
       "       [  25],\n",
       "       [  62],\n",
       "       [ 475],\n",
       "       [   2],\n",
       "       [5464],\n",
       "       [  14]])"
      ]
     },
     "execution_count": 15,
     "metadata": {},
     "output_type": "execute_result"
    }
   ],
   "source": [
    "x"
   ]
  },
  {
   "cell_type": "code",
   "execution_count": 16,
   "metadata": {},
   "outputs": [
    {
     "data": {
      "text/plain": [
       "array([  2,   3,   1,  51,  12,  23, 562,  25,  15,  62,  73,  84,   3,\n",
       "       625,  14,  25,   1])"
      ]
     },
     "execution_count": 16,
     "metadata": {},
     "output_type": "execute_result"
    }
   ],
   "source": [
    "y"
   ]
  },
  {
   "cell_type": "markdown",
   "metadata": {
    "id": "3gZBobeEhJpN"
   },
   "source": [
    "Buat modelnya dan latih model regresi linear"
   ]
  },
  {
   "cell_type": "code",
   "execution_count": 19,
   "metadata": {
    "id": "RR5vMqeY0RqV"
   },
   "outputs": [],
   "source": [
    "model = LinearRegression().fit(x, y)"
   ]
  },
  {
   "cell_type": "markdown",
   "metadata": {
    "id": "ghLYVggK39TG"
   },
   "source": [
    "Lihat r^2, intercept, dan slope"
   ]
  },
  {
   "cell_type": "code",
   "execution_count": 20,
   "metadata": {
    "id": "L-aXeYf_3820"
   },
   "outputs": [
    {
     "name": "stdout",
     "output_type": "stream",
     "text": [
      "=== Single Linear Regression ===\n",
      "Coefficient of Determination (R²): 0.001044527936749029\n",
      "Intercept: 91.1359696789431\n",
      "Slope: [0.00467796]\n"
     ]
    }
   ],
   "source": [
    "print(\"=== Single Linear Regression ===\")\n",
    "print(f\"Coefficient of Determination (R²): {model.score(x, y)}\")\n",
    "print(f\"Intercept: {model.intercept_}\")\n",
    "print(f\"Slope: {model.coef_}\")"
   ]
  },
  {
   "cell_type": "markdown",
   "metadata": {
    "id": "zjtMeNRr7DH9"
   },
   "source": [
    "Predict nilai y dari x berdasarkan model"
   ]
  },
  {
   "cell_type": "code",
   "execution_count": 21,
   "metadata": {
    "id": "ZzpaMAbq67S7"
   },
   "outputs": [
    {
     "name": "stdout",
     "output_type": "stream",
     "text": [
      "Predicted response:\n",
      "[ 91.14064764  91.14064764  91.14064764  91.1453256   91.15000357\n",
      "  91.15468153  93.77901828  91.19210522  91.50085072  91.20146115\n",
      "  91.37454575  91.25291873  91.42600333  93.35800169  91.1453256\n",
      " 116.69635475  91.20146115]\n"
     ]
    }
   ],
   "source": [
    "predicted_y = model.predict(x)\n",
    "print(\"Predicted response:\")\n",
    "print(predicted_y)"
   ]
  },
  {
   "cell_type": "markdown",
   "metadata": {
    "id": "vXD4QGhOiG2m"
   },
   "source": [
    "Plot hasilnya"
   ]
  },
  {
   "cell_type": "code",
   "execution_count": 22,
   "metadata": {
    "id": "n8TdUG1-iLIx"
   },
   "outputs": [
    {
     "data": {
      "image/png": "[encoded data removed]",
      "text/plain": [
       "<Figure size 640x480 with 1 Axes>"
      ]
     },
     "metadata": {},
     "output_type": "display_data"
    }
   ],
   "source": [
    "plt.scatter(x, y, color='blue', label='Data Asli')\n",
    "plt.plot(x, predicted_y, color='red', label='Regresi Linear')\n",
    "plt.xlabel('X')\n",
    "plt.ylabel('Y')\n",
    "plt.title('Single Linear Regression')\n",
    "plt.legend()\n",
    "plt.show()"
   ]
  },
  {
   "cell_type": "markdown",
   "metadata": {
    "id": "vdf9J9mCQ4aC"
   },
   "source": [
    "# Polinomial Regression\n",
    "### Perbandingan tahun dan populasi penduduk"
   ]
  },
  {
   "cell_type": "code",
   "execution_count": 15,
   "metadata": {
    "scrolled": true
   },
   "outputs": [
    {
     "name": "stdout",
     "output_type": "stream",
     "text": [
      "=== Polynomial Regression ===\n",
      "Degree: 2\n",
      "Coefficient of Determination (R²): 0.9992291899369613\n",
      "Intercept: -20453865096.04\n",
      "Coefficients: [ 1.75387250e+07 -3.60223959e+03]\n",
      "x to predict:\n",
      "[[2005]\n",
      " [2006]\n",
      " [2015]\n",
      " [2016]\n",
      " [2030]]\n",
      "Predicted y (Polynomial Regression):\n",
      "[2.30185244e+08 2.33275386e+08 2.60762462e+08 2.63780559e+08\n",
      " 3.05277449e+08]\n"
     ]
    },
    {
     "data": {
      "image/png": "[encoded data removed]",
      "text/plain": [
       "<Figure size 640x480 with 1 Axes>"
      ]
     },
     "metadata": {},
     "output_type": "display_data"
    }
   ],
   "source": [
    "import numpy as np\n",
    "import pandas as pd\n",
    "import matplotlib.pyplot as plt\n",
    "from sklearn.linear_model import LinearRegression\n",
    "from sklearn.preprocessing import PolynomialFeatures\n",
    "\n",
    "\n",
    "# baca data dari CSV\n",
    "data = pd.read_csv('year-population.csv', usecols=[0, 1])\n",
    "\n",
    "\n",
    "# ambil X dan Y\n",
    "x = data.iloc[:, 0].values.reshape(-1, 1)\n",
    "y = data.iloc[:, 1].values\n",
    "\n",
    "\n",
    "# derajat polinomial yang digunakan\n",
    "degree = 2\n",
    "\n",
    "\n",
    "# transformasi polinomial\n",
    "poly_transformer = PolynomialFeatures(degree=degree, include_bias=False)\n",
    "x_poly = poly_transformer.fit_transform(x)\n",
    "\n",
    "\n",
    "# latih model regresi linier\n",
    "model = LinearRegression().fit(x_poly, y)\n",
    "r_sq = model.score(x_poly, y)\n",
    "\n",
    "\n",
    "# output model\n",
    "print(\"=== Polynomial Regression ===\")\n",
    "print(f\"Degree: {degree}\")\n",
    "print(f\"Coefficient of Determination (R²): {r_sq}\")\n",
    "print(f\"Intercept: {model.intercept_}\")\n",
    "print(f\"Coefficients: {model.coef_}\")\n",
    "\n",
    "#data yang ingin di predict\n",
    "x_pred = np.array([[2005], [2006], [2015], [2016], [2030]])\n",
    "\n",
    "x_pred_poly = poly_transformer.transform(x_pred)\n",
    "\n",
    "# prediksi\n",
    "y_poly_pred = model.predict(x_pred_poly)\n",
    "print(\"x to predict:\")\n",
    "print(x_pred)\n",
    "print(\"Predicted y (Polynomial Regression):\")\n",
    "print(y_poly_pred)\n",
    "\n",
    "\n",
    "pred_sorted_indices = np.argsort(x_pred.flatten())\n",
    "pred_x_sorted = x_pred[pred_sorted_indices]\n",
    "pred_y_poly_sorted = y_poly_pred[pred_sorted_indices]\n",
    "\n",
    "\n",
    "plt.scatter(x, y, color='blue', label='Data Asli')\n",
    "plt.scatter(pred_x_sorted, pred_y_poly_sorted, color='red', label=f'Data to predict (2005, 2006, 2015, 2016)')\n",
    "plt.plot(x_sorted, y_poly_sorted, color='red', label=f'Polynomial Regression (degree={degree})')\n",
    "plt.xlabel('Tahun')\n",
    "plt.ylabel('Persentase yang Menggunakan Internet')\n",
    "plt.title('Polynomial Regression')\n",
    "plt.legend()\n",
    "plt.show()\n",
    "\n"
   ]
  },
  {
   "cell_type": "markdown",
   "metadata": {
    "id": "bsLEgeBTo88t"
   },
   "source": [
    "# **Referensi:**\n",
    "- https://realpython.com/linear-regression-in-python/#multiple-linear-regression-with-scikit-learn\n",
    "- https://medium.com/@adiptamartulandi/belajar-machine-learning-simple-linear-regression-di-python-e82972695eaf\n",
    "- https://scikit-learn.org/stable/auto_examples/linear_model/plot_polynomial_interpolation.html\n",
    "- https://www.geeksforgeeks.org/python-extracting-rows-using-pandas-iloc/\n",
    "- https://jakevdp.github.io/PythonDataScienceHandbook/04.12-three-dimensional-plotting.html\n",
    "- https://github.com/motisoltani/Newton-Interpolation-Method-Python/blob/main/Newton%20interpolation.py\n",
    "- https://pythonnumericalmethods.studentorg.berkeley.edu/notebooks/chapter17.04-Lagrange-Polynomial-Interpolation.html"
   ]
  }
 ],
 "metadata": {
  "colab": {
   "collapsed_sections": [
    "PUBL1ms2gBmA"
   ],
   "provenance": []
  },
  "kernelspec": {
   "display_name": "Python 3 (ipykernel)",
   "language": "python",
   "name": "python3"
  },
  "language_info": {
   "codemirror_mode": {
    "name": "ipython",
    "version": 3
   },
   "file_extension": ".py",
   "mimetype": "text/x-python",
   "name": "python",
   "nbconvert_exporter": "python",
   "pygments_lexer": "ipython3",
   "version": "3.13.2"
  }
 },
 "nbformat": 4,
 "nbformat_minor": 4
}
